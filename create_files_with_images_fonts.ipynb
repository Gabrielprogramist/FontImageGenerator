{
 "cells": [
  {
   "cell_type": "code",
   "execution_count": 1,
   "metadata": {},
   "outputs": [],
   "source": [
    "import logging\n",
    "from fontTools.ttLib import TTFont\n",
    "from PIL import Image, ImageFont, ImageDraw\n",
    "import numpy as np\n",
    "from pathlib import Path\n",
    "import os\n",
    "logging.basicConfig(level=logging.INFO, format='%(asctime)s - %(levelname)s - %(message)s')"
   ]
  },
  {
   "cell_type": "code",
   "execution_count": 2,
   "metadata": {},
   "outputs": [],
   "source": [
    "def get_defined_chars(fontfile):\n",
    "    # Get all defined characters from the font file\n",
    "    try:\n",
    "        ttf = TTFont(fontfile)\n",
    "        chars = [chr(y) for y in ttf[\"cmap\"].tables[0].cmap.keys()]\n",
    "        return chars\n",
    "    except Exception as e:\n",
    "        logging.error(f\"Error reading font file {fontfile}: {e}\")\n",
    "        return []"
   ]
  },
  {
   "cell_type": "code",
   "execution_count": 3,
   "metadata": {},
   "outputs": [],
   "source": [
    "def get_filtered_chars(fontpath):\n",
    "    # Filter characters that can be rendered from the font\n",
    "    try:\n",
    "        ttf = read_font(fontpath)\n",
    "    except Exception as e:\n",
    "        logging.error(f\"Error loading font {fontpath}: {e}\")\n",
    "        return []\n",
    "\n",
    "    defined_chars = get_defined_chars(fontpath)\n",
    "    avail_chars = []\n",
    "    for char in defined_chars:\n",
    "        try:\n",
    "            img = np.array(render(ttf, char))\n",
    "            if img.mean() < 255.:  # Threshold for non-blank characters\n",
    "                avail_chars.append(char)\n",
    "        except Exception as e:\n",
    "            logging.warning(f\"Skipping character '{char}' due to rendering error: {e}\")"
   ]
  },
  {
   "cell_type": "code",
   "execution_count": 4,
   "metadata": {},
   "outputs": [],
   "source": [
    "def read_font(fontfile, size=150):\n",
    "    # Read the font with a specified size\n",
    "    try:\n",
    "        font = ImageFont.truetype(str(fontfile), size=size)\n",
    "        return font\n",
    "    except Exception as e:\n",
    "        logging.error(f\"Error reading font {fontfile}: {e}\")\n",
    "        raise"
   ]
  },
  {
   "cell_type": "code",
   "execution_count": 5,
   "metadata": {},
   "outputs": [],
   "source": [
    "def render(font, char, size=(128, 128), pad=20, bottom_pad=20, scale=0.55):\n",
    "    try:\n",
    "        # Scale the font size\n",
    "        font_size = int(font.size * scale)\n",
    "        font = ImageFont.truetype(font.path, font_size)\n",
    "\n",
    "        # Create an image with enough space to center the text\n",
    "        img = Image.new(\"L\", (size[0] + 2*pad, size[1] + pad + bottom_pad), 255)\n",
    "        draw = ImageDraw.Draw(img)\n",
    "\n",
    "        # Get the bounding box for the text to be drawn\n",
    "        bbox = draw.textbbox((0, 0), char, font=font)\n",
    "\n",
    "        # Calculate the starting coordinates to center the text\n",
    "        start_x = (img.width - bbox[2] - bbox[0]) / 2\n",
    "        start_y = (img.height - bbox[3] - bbox[1]) / 2\n",
    "\n",
    "        # Draw the text at the center of the image\n",
    "        draw.text((start_x, start_y), char, font=font, fill=0)\n",
    "\n",
    "        # Crop the image leaving the specified padding\n",
    "        img = img.crop((pad, pad, size[0] + pad, size[1] + pad + bottom_pad - pad))\n",
    "        return img\n",
    "    except Exception as e:\n",
    "        logging.error(f\"Error rendering character '{char}' with font '{font.path}': {e}\")\n",
    "        return None"
   ]
  },
  {
   "cell_type": "code",
   "execution_count": null,
   "metadata": {},
   "outputs": [],
   "source": [
    "# Character ranges for English, Russian, and Kazakh alphabets\n",
    "english_chars = list(range(65, 91)) + list(range(97, 123))\n",
    "russian_chars = list(range(0x0410, 0x0450)) + [0x0401, 0x0451]\n",
    "kazakh_chars = [0x04D8, 0x04D9, 0x0492, 0x0493, 0x049A, 0x049B, 0x04A2, 0x04A3, 0x04E8, 0x04E9, 0x04B0, 0x04B1, 0x04AE, 0x04AF, 0x04BA, 0x04BB, 0x0406, 0x0456]\n",
    "\n",
    "# Combined character list for generating images\n",
    "my_gen_chars = [chr(i) for i in kazakh_chars + russian_chars + english_chars]\n",
    "\n",
    "# Directory paths for saving generated images and font files\n",
    "save_dir = Path(r\"path/where/you/want/to/save\")\n",
    "save_dir.mkdir(parents=True, exist_ok=True)\n",
    "font_dir = r\"path/to/ttf/files\"\n",
    "\n",
    "# List all font files in the specified directory\n",
    "custom_fonts = os.listdir(font_dir)\n",
    "\n",
    "for font_file in custom_fonts:\n",
    "    try:\n",
    "        font_path = os.path.join(font_dir, font_file)\n",
    "        source_font = read_font(font_path)\n",
    "        gen_chars = np.intersect1d(get_filtered_chars(font_path), my_gen_chars)\n",
    "        for char in gen_chars:\n",
    "            try:\n",
    "                font_char_dir = save_dir / font_file.split('.')[0].strip()\n",
    "                font_char_dir.mkdir(parents=True, exist_ok=True)\n",
    "                source_img = render(source_font, char)\n",
    "                prefix = 'upper_' if char.isupper() else 'lower_'\n",
    "                path = font_char_dir / f\"{prefix}{char}_{font_file.split('.')[0].strip()}.png\"\n",
    "                source_img.save(path)\n",
    "            except OSError as e:\n",
    "                print(f\"Skipping character {char} in font {font_file} due to error: {e}\")\n",
    "    except Exception as e:\n",
    "        print(f\"Failed to read or process font {font_file} due to error: {e}\")"
   ]
  }
 ],
 "metadata": {
  "kernelspec": {
   "display_name": "Python 3",
   "language": "python",
   "name": "python3"
  },
  "language_info": {
   "codemirror_mode": {
    "name": "ipython",
    "version": 3
   },
   "file_extension": ".py",
   "mimetype": "text/x-python",
   "name": "python",
   "nbconvert_exporter": "python",
   "pygments_lexer": "ipython3",
   "version": "3.10.10"
  }
 },
 "nbformat": 4,
 "nbformat_minor": 2
}
