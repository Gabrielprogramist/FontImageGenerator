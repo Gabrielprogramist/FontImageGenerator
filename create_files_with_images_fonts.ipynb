{
 "cells": [
  {
   "cell_type": "code",
   "execution_count": 1,
   "metadata": {},
   "outputs": [],
   "source": [
    "from fontTools.ttLib import TTFont\n",
    "from PIL import Image, ImageFont, ImageDraw\n",
    "import numpy as np\n",
    "from pathlib import Path\n",
    "import os"
   ]
  },
  {
   "cell_type": "code",
   "execution_count": 2,
   "metadata": {},
   "outputs": [],
   "source": [
    "def get_defined_chars(fontfile):\n",
    "    # Get all defined characters from the font file\n",
    "    ttf = TTFont(fontfile)\n",
    "    chars = [chr(y) for y in ttf[\"cmap\"].tables[0].cmap.keys()]\n",
    "    return chars"
   ]
  },
  {
   "cell_type": "code",
   "execution_count": 3,
   "metadata": {},
   "outputs": [],
   "source": [
    "def get_filtered_chars(fontpath):\n",
    "    # Filter characters that can be rendered from the font\n",
    "    ttf = read_font(fontpath)\n",
    "    defined_chars = get_defined_chars(fontpath)\n",
    "    avail_chars = []\n",
    "\n",
    "    for char in defined_chars:\n",
    "        img = np.array(render(ttf, char))\n",
    "        if img.mean() != 255.:\n",
    "            avail_chars.append(char.encode('utf-16', 'surrogatepass').decode('utf-16'))\n",
    "\n",
    "    return avail_chars"
   ]
  },
  {
   "cell_type": "code",
   "execution_count": 4,
   "metadata": {},
   "outputs": [],
   "source": [
    "def read_font(path, size=150):\n",
    "    # Read the font with a specified size\n",
    "    font = ImageFont.truetype(path, size)\n",
    "    return font"
   ]
  },
  {
   "cell_type": "code",
   "execution_count": 5,
   "metadata": {},
   "outputs": [],
   "source": [
    "def render(font, char, size=(128, 128), pad=20, bottom_pad=20, scale=0.55):\n",
    "    # Scale the font size\n",
    "    font_size = int(font.size * scale)\n",
    "    font = ImageFont.truetype(font.path, font_size)\n",
    "\n",
    "    # Create an image with enough space to center the text\n",
    "    img = Image.new(\"L\", (size[0] + 2*pad, size[1] + pad + bottom_pad), 255)\n",
    "    draw = ImageDraw.Draw(img)\n",
    "\n",
    "    # Get the bounding box for the text to be drawn\n",
    "    bbox = draw.textbbox((0, 0), char, font=font)\n",
    "\n",
    "    # Calculate the starting coordinates to center the text\n",
    "    start_x = (img.width - bbox[2] - bbox[0]) / 2\n",
    "    start_y = (img.height - bbox[3] - bbox[1]) / 2\n",
    "\n",
    "    # Draw the text at the center of the image\n",
    "    draw.text((start_x, start_y), char, font=font, fill=0)\n",
    "\n",
    "    # Crop the image leaving the specified padding\n",
    "    img = img.crop((pad, pad, size[0] + pad, size[1] + pad + bottom_pad - pad))\n",
    "    return img"
   ]
  },
  {
   "cell_type": "code",
   "execution_count": null,
   "metadata": {},
   "outputs": [],
   "source": [
    "# Character ranges for English, Russian, and Kazakh alphabets\n",
    "english_chars = list(range(65, 91)) + list(range(97, 123))\n",
    "russian_chars = list(range(0x0410, 0x0450)) + [0x0401, 0x0451]\n",
    "kazakh_chars = [0x04D8, 0x04D9, 0x0492, 0x0493, 0x049A, 0x049B, 0x04A2, 0x04A3, 0x04E8, 0x04E9, 0x04B0, 0x04B1, 0x04AE, 0x04AF, 0x04BA, 0x04BB, 0x0406, 0x0456]\n",
    "\n",
    "# Combined character list for generating images\n",
    "my_gen_chars = [chr(i) for i in kazakh_chars + russian_chars + english_chars]\n",
    "\n",
    "# Directory paths for saving generated images and font files\n",
    "save_dir = Path(r\"path/where/you/want/to/save\")\n",
    "save_dir.mkdir(parents=True, exist_ok=True)\n",
    "font_dir = r\"path/to/ttf/files\"\n",
    "\n",
    "# List all font files in the specified directory\n",
    "custom_fonts = os.listdir(font_dir)\n",
    "\n",
    "for font_file in custom_fonts:\n",
    "    try:\n",
    "        source_font = read_font(str(font_dir + '/' + font_file))\n",
    "        gen_chars = np.intersect1d(get_filtered_chars(str(font_dir + '/' + font_file)), my_gen_chars)\n",
    "        for char in gen_chars:\n",
    "            try:\n",
    "                font_char_dir = save_dir / font_file.split('.')[0]\n",
    "                font_char_dir.mkdir(parents=True, exist_ok=True)\n",
    "                source_img = render(source_font, char)\n",
    "                prefix = 'upper_' if char.isupper() else 'lower_'\n",
    "                path = font_char_dir / f\"{prefix}{char}_{font_file.split('.')[0]}.png\"\n",
    "                source_img.save(path)\n",
    "            except OSError as e:\n",
    "                print(f\"Skipping character {char} in font {font_file} due to error: {e}\")\n",
    "    except Exception as e:\n",
    "        print(f\"Failed to read or process font {font_file} due to error: {e}\")"
   ]
  }
 ],
 "metadata": {
  "kernelspec": {
   "display_name": "Python 3",
   "language": "python",
   "name": "python3"
  },
  "language_info": {
   "codemirror_mode": {
    "name": "ipython",
    "version": 3
   },
   "file_extension": ".py",
   "mimetype": "text/x-python",
   "name": "python",
   "nbconvert_exporter": "python",
   "pygments_lexer": "ipython3",
   "version": "3.10.10"
  }
 },
 "nbformat": 4,
 "nbformat_minor": 2
}
